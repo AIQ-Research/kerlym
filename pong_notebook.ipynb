{
 "cells": [
  {
   "cell_type": "code",
   "execution_count": 1,
   "metadata": {
    "collapsed": false
   },
   "outputs": [
    {
     "name": "stderr",
     "output_type": "stream",
     "text": [
      "/usr/local/lib/python2.7/dist-packages/IPython/html.py:14: ShimWarning: The `IPython.html` package has been deprecated. You should import from `notebook` instead. `IPython.html.widgets` has moved to `ipywidgets`.\n",
      "  \"`IPython.html.widgets` has moved to `ipywidgets`.\", ShimWarning)\n"
     ]
    }
   ],
   "source": [
    "%matplotlib inline\n",
    "import os,random\n",
    "os.environ[\"THEANO_FLAGS\"] = \"mode=FAST_RUN,device=gpu%d,floatX=float32\"%(random.randint(0,3))\n",
    "import seaborn as sns\n",
    "from gym import envs"
   ]
  },
  {
   "cell_type": "code",
   "execution_count": 2,
   "metadata": {
    "collapsed": false
   },
   "outputs": [
    {
     "name": "stderr",
     "output_type": "stream",
     "text": [
      "INFO:gym.envs.registration:Making new env: Pong-v0\n",
      "[2016-05-16 16:20:24,606] Making new env: Pong-v0\n"
     ]
    }
   ],
   "source": [
    "env = \"Pong-v0\"\n",
    "env = envs.make(env)"
   ]
  },
  {
   "cell_type": "code",
   "execution_count": null,
   "metadata": {
    "collapsed": false
   },
   "outputs": [
    {
     "name": "stderr",
     "output_type": "stream",
     "text": [
      "Using Theano backend.\n",
      "Using gpu device 3: GeForce GTX TITAN X (CNMeM is disabled, cuDNN 5004)"
     ]
    },
    {
     "name": "stdout",
     "output_type": "stream",
     "text": [
      "Input Dim:  403200 [4, 210, 160, 3]\n",
      "Output Actions:  [0, 1, 2, 3, 4, 5]\n",
      "____________________________________________________________________________________________________\n",
      "Layer (type)                       Output Shape        Param #     Connected to                     \n",
      "====================================================================================================\n",
      "input_1 (InputLayer)               (None, 403200)      0                                            \n",
      "____________________________________________________________________________________________________\n",
      "reshape_1 (Reshape)                (None, 4, 210, 160, 0           input_1[0][0]                    \n",
      "____________________________________________________________________________________________________\n",
      "timedistributed_1 (TimeDistributed)(None, 4, 16, 40, 1)215056      reshape_1[0][0]                  \n",
      "____________________________________________________________________________________________________\n",
      "timedistributed_2 (TimeDistributed)(None, 4, 32, 20, 1)8224        timedistributed_1[0][0]          \n",
      "____________________________________________________________________________________________________\n",
      "flatten_1 (Flatten)                (None, 2560)        0           timedistributed_2[0][0]          \n",
      "____________________________________________________________________________________________________\n",
      "dense_1 (Dense)                    (None, 256)         655616      flatten_1[0][0]                  \n",
      "____________________________________________________________________________________________________\n",
      "dense_2 (Dense)                    (None, 6)           1542        dense_1[0][0]                    \n",
      "====================================================================================================\n",
      "Total params: 880438\n",
      "____________________________________________________________________________________________________\n",
      "None\n"
     ]
    },
    {
     "name": "stderr",
     "output_type": "stream",
     "text": [
      "\n"
     ]
    }
   ],
   "source": [
    "import dqn\n",
    "agent = dqn.D2QN(env, \n",
    "                  nframes=4, \n",
    "                  epsilon=0.1, \n",
    "                  discount=0.99, \n",
    "                  modelfactory=dqn.simple_cnn,\n",
    "                  epsilon_schedule=lambda episode,epsilon: epsilon*(1-1e-4),                \n",
    "                  update_nsamp=1000, \n",
    "                  batch_size=32, \n",
    "                  dropout=0.1,\n",
    "                  timesteps_per_batch=200, \n",
    "                  stats_rate=10,\n",
    "                  enable_plots = True, \n",
    "                  max_memory = 100000 )"
   ]
  },
  {
   "cell_type": "code",
   "execution_count": null,
   "metadata": {
    "collapsed": false
   },
   "outputs": [
    {
     "name": "stdout",
     "output_type": "stream",
     "text": [
      "Epoch 1/1\n",
      "199/199 [==============================] - 0s - loss: 2558.2591     \n",
      " * Episode 00000000\tFrame 00000200\tSamples: 00000200\tReward: -3\tEpsilon: 0.100000\n",
      "Epoch 1/1\n",
      "399/399 [==============================] - 0s - loss: 572.7585     "
     ]
    }
   ],
   "source": [
    "agent.learn(ipy_clear=True, max_episodes=1000000, max_pathlength=200)\n",
    "\n"
   ]
  },
  {
   "cell_type": "code",
   "execution_count": null,
   "metadata": {
    "collapsed": true
   },
   "outputs": [],
   "source": []
  }
 ],
 "metadata": {
  "kernelspec": {
   "display_name": "Python 2",
   "language": "python",
   "name": "python2"
  },
  "language_info": {
   "codemirror_mode": {
    "name": "ipython",
    "version": 2
   },
   "file_extension": ".py",
   "mimetype": "text/x-python",
   "name": "python",
   "nbconvert_exporter": "python",
   "pygments_lexer": "ipython2",
   "version": "2.7.6"
  }
 },
 "nbformat": 4,
 "nbformat_minor": 0
}
